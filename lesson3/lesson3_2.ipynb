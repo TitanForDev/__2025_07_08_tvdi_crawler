{
 "cells": [
  {
   "cell_type": "code",
   "execution_count": 5,
   "id": "7460a201",
   "metadata": {},
   "outputs": [
    {
     "data": {
      "text/plain": [
       "11"
      ]
     },
     "execution_count": 5,
     "metadata": {},
     "output_type": "execute_result"
    }
   ],
   "source": [
    "def add_number(value1,value2):\n",
    "    return value1 + value2\n",
    "\n",
    "result = add_number(5,6)\n",
    "result"
   ]
  },
  {
   "cell_type": "code",
   "execution_count": 6,
   "id": "e2be8704",
   "metadata": {},
   "outputs": [],
   "source": [
    "def merge_and_sort_lists(list1: list[int], list2: list[int]) -> list[int]:\n",
    "    merged = list1 + list2\n",
    "    merged.sort()\n",
    "    return merged\n"
   ]
  },
  {
   "cell_type": "markdown",
   "id": "639061f0",
   "metadata": {},
   "source": [
    "這段程式碼定義了一個名為 `merge_and_sort_lists` 的函式，目的是將兩個整數列表合併並排序。函式接受兩個參數 `list1` 和 `list2`，它們的型別都是 `list[int]`，也就是整數的列表。回傳值同樣是一個整數列表。\n",
    "\n",
    "在函式內部，首先利用 `list1 + list2` 將兩個列表合併成一個新的列表 `merged`。這個操作會將 `list2` 的元素接在 `list1` 後面，產生一個包含所有元素的新列表。接著，呼叫 `merged.sort()` 會直接在 `merged` 這個列表上進行原地排序，將所有元素依照從小到大的順序排列。最後，函式回傳排序後的 `merged` 列表。\n",
    "\n",
    "這個函式的設計簡潔明瞭，適合用於需要將兩個已知的整數列表合併並排序的情境。需要注意的是，`sort()` 方法會改變原本的列表內容，如果你不希望改變原始資料，可以考慮使用 `sorted()` 函式來產生一個新的排序後列表。"
   ]
  },
  {
   "cell_type": "code",
   "execution_count": null,
   "id": "9632a06e",
   "metadata": {},
   "outputs": [
    {
     "name": "stdout",
     "output_type": "stream",
     "text": [
      "合併並排序後的列表: [1, 5, 15, 20, 43, 65, 96, 98]\n"
     ]
    }
   ],
   "source": [
    "import random\n",
    "\n",
    "# 產生一個包含 10 個亂數整數的 list，每個整數介於 1 到 100 之間\n",
    "random_list1 = [random.randint(1, 100) for _ in range(3)]\n",
    "random_list2 = [random.randint(1, 100) for _ in range(5)]\n",
    "\n",
    "merged_sorted_list = merge_and_sort_lists(random_list1, random_list2)\n",
    "print(\"合併並排序後的列表:\", merged_sorted_list)\n",
    "# 此腳本定義了一個加法函數，合併兩個整數列表並排序。\n",
    "# 它也會產生兩個隨機整數列表，並將它們合併為一個排序後的列表。\n",
    "# 加法的結果儲存在 'result' 變數中。"
   ]
  },
  {
   "cell_type": "code",
   "execution_count": 14,
   "id": "299157e0",
   "metadata": {},
   "outputs": [
    {
     "name": "stdout",
     "output_type": "stream",
     "text": [
      "[1, 1, 1]\n"
     ]
    }
   ],
   "source": [
    "random_list1 = [1 for _ in range(3)]\n",
    "print(random_list1)"
   ]
  }
 ],
 "metadata": {
  "kernelspec": {
   "display_name": "web_crawler",
   "language": "python",
   "name": "python3"
  },
  "language_info": {
   "codemirror_mode": {
    "name": "ipython",
    "version": 3
   },
   "file_extension": ".py",
   "mimetype": "text/x-python",
   "name": "python",
   "nbconvert_exporter": "python",
   "pygments_lexer": "ipython3",
   "version": "3.11.13"
  }
 },
 "nbformat": 4,
 "nbformat_minor": 5
}
