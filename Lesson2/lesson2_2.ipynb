{
 "cells": [
  {
   "cell_type": "markdown",
   "id": "18fbfc2e",
   "metadata": {},
   "source": [
    "### Python 基礎"
   ]
  },
  {
   "cell_type": "code",
   "execution_count": null,
   "id": "024f5c69",
   "metadata": {},
   "outputs": [],
   "source": [
    "print(\"Hello! Python!\")"
   ]
  },
  {
   "cell_type": "code",
   "execution_count": null,
   "id": "df76f5eb",
   "metadata": {},
   "outputs": [],
   "source": [
    "name = \"Alice\"         # 字串（string）\n",
    "age = 25               # 整數（integer）\n",
    "height = 1.65          # 浮點數（float）\n",
    "is_student = True      # 布林值（boolean）\n",
    "\n",
    "print(name)\n",
    "print(age)\n",
    "print(height)\n",
    "print(is_student)"
   ]
  },
  {
   "cell_type": "code",
   "execution_count": 11,
   "id": "91ec53eb",
   "metadata": {},
   "outputs": [
    {
     "name": "stdout",
     "output_type": "stream",
     "text": [
      "總和是：15\n"
     ]
    }
   ],
   "source": [
    "a = 10\n",
    "b = 5\n",
    "sum_result = a + b\n",
    "print('總和是：', sum_result, sep='')"
   ]
  },
  {
   "cell_type": "code",
   "execution_count": 8,
   "id": "795f9f30",
   "metadata": {},
   "outputs": [
    {
     "data": {
      "text/plain": [
       "100000"
      ]
     },
     "execution_count": 8,
     "metadata": {},
     "output_type": "execute_result"
    }
   ],
   "source": [
    "a**b"
   ]
  },
  {
   "cell_type": "code",
   "execution_count": 12,
   "id": "1399e4fd",
   "metadata": {},
   "outputs": [
    {
     "name": "stdout",
     "output_type": "stream",
     "text": [
      "Hello-World-!-56!\n"
     ]
    }
   ],
   "source": [
    "print('Hello', 'World', \"!\", 56, sep='-', end='!\\n')"
   ]
  },
  {
   "cell_type": "code",
   "execution_count": 13,
   "id": "090459e3",
   "metadata": {},
   "outputs": [
    {
     "name": "stdout",
     "output_type": "stream",
     "text": [
      "角度為 30.00 度\n"
     ]
    }
   ],
   "source": [
    "import math\n",
    "\n",
    "# 假設對邊長為 3，斜邊長為 5\n",
    "opposite = 25\n",
    "hypotenuse = 50\n",
    "\n",
    "# 求角度（使用反正弦函數）\n",
    "radians = math.asin(opposite / hypotenuse)\n",
    "\n",
    "# 將弧度轉換為角度\n",
    "degrees = math.degrees(radians)\n",
    "\n",
    "print(f\"角度為 {degrees:.2f} 度\")"
   ]
  },
  {
   "cell_type": "code",
   "execution_count": 14,
   "id": "8b74a5c1",
   "metadata": {},
   "outputs": [
    {
     "name": "stdout",
     "output_type": "stream",
     "text": [
      "角度為 36.87 度\n"
     ]
    }
   ],
   "source": [
    "degrees = 36.86989764584401\n",
    "print(f\"角度為 {degrees:.2f} 度\")"
   ]
  }
 ],
 "metadata": {
  "kernelspec": {
   "display_name": "web_crawler",
   "language": "python",
   "name": "python3"
  },
  "language_info": {
   "codemirror_mode": {
    "name": "ipython",
    "version": 3
   },
   "file_extension": ".py",
   "mimetype": "text/x-python",
   "name": "python",
   "nbconvert_exporter": "python",
   "pygments_lexer": "ipython3",
   "version": "3.11.13"
  }
 },
 "nbformat": 4,
 "nbformat_minor": 5
}
