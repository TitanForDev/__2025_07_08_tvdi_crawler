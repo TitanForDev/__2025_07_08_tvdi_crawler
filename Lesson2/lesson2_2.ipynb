{
 "cells": [
  {
   "cell_type": "markdown",
   "id": "18fbfc2e",
   "metadata": {},
   "source": [
    "### Python 基礎"
   ]
  },
  {
   "cell_type": "code",
   "execution_count": 1,
   "id": "024f5c69",
   "metadata": {},
   "outputs": [
    {
     "name": "stdout",
     "output_type": "stream",
     "text": [
      "Hello! Python!\n"
     ]
    }
   ],
   "source": [
    "print(\"Hello! Python!\")"
   ]
  }
 ],
 "metadata": {
  "kernelspec": {
   "display_name": "web_crawler",
   "language": "python",
   "name": "python3"
  },
  "language_info": {
   "codemirror_mode": {
    "name": "ipython",
    "version": 3
   },
   "file_extension": ".py",
   "mimetype": "text/x-python",
   "name": "python",
   "nbconvert_exporter": "python",
   "pygments_lexer": "ipython3",
   "version": "3.11.13"
  }
 },
 "nbformat": 4,
 "nbformat_minor": 5
}
