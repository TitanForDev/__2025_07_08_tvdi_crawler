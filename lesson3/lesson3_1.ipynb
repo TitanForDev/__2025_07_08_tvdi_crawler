{
 "cells": [
  {
   "cell_type": "code",
   "execution_count": null,
   "id": "871a6c80",
   "metadata": {},
   "outputs": [],
   "source": [
    "#基本資料類型,copy value\n",
    "n = 3\n",
    "x = n\n",
    "print(n)\n",
    "print(x)\n",
    "print(\"========\")\n",
    "x = 5\n",
    "print(n)\n",
    "print(x)\n",
    "\n"
   ]
  },
  {
   "cell_type": "code",
   "execution_count": null,
   "id": "9f3dfe45",
   "metadata": {},
   "outputs": [],
   "source": [
    "fruits = ['apple', 'banana', 'cherry']\n",
    "type(fruits)\n",
    "print(fruits)\n",
    "another_fruits = fruits\n",
    "another_fruits1 = another_fruits\n",
    "print(another_fruits)\n",
    "\n",
    "print(\"=============\")\n",
    "fruits[1] = 'raspberry'\n",
    "print(fruits)\n",
    "print(another_fruits)\n",
    "print(another_fruits1)"
   ]
  },
  {
   "cell_type": "code",
   "execution_count": null,
   "id": "6d6ebf55",
   "metadata": {},
   "outputs": [],
   "source": [
    "print(fruits[0])\n",
    "print(fruits[1])\n",
    "print(fruits[2])"
   ]
  },
  {
   "cell_type": "code",
   "execution_count": null,
   "id": "d18b88f5",
   "metadata": {},
   "outputs": [],
   "source": [
    "print(type(fruits))\n",
    "fruits.append('pineapple')"
   ]
  },
  {
   "cell_type": "code",
   "execution_count": 21,
   "id": "f6c2bbe9",
   "metadata": {},
   "outputs": [
    {
     "name": "stdout",
     "output_type": "stream",
     "text": [
      "apple\n",
      "raspberry\n",
      "cherry\n"
     ]
    }
   ],
   "source": [
    "for item in fruits:\n",
    "    print(item)"
   ]
  },
  {
   "cell_type": "code",
   "execution_count": 25,
   "id": "ebbdc514",
   "metadata": {},
   "outputs": [
    {
     "name": "stdout",
     "output_type": "stream",
     "text": [
      "('jack', 4098)\n",
      "('sape', 4139)\n"
     ]
    }
   ],
   "source": [
    "tel={'jack':4098,'sape':4139}\n",
    "#tel['jack']\n",
    "#tel['sape']\n",
    "for item in tel.items():\n",
    "    print(item)"
   ]
  }
 ],
 "metadata": {
  "kernelspec": {
   "display_name": "web_crawler",
   "language": "python",
   "name": "python3"
  },
  "language_info": {
   "codemirror_mode": {
    "name": "ipython",
    "version": 3
   },
   "file_extension": ".py",
   "mimetype": "text/x-python",
   "name": "python",
   "nbconvert_exporter": "python",
   "pygments_lexer": "ipython3",
   "version": "3.11.13"
  }
 },
 "nbformat": 4,
 "nbformat_minor": 5
}
